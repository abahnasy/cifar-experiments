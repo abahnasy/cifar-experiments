{
  "nbformat": 4,
  "nbformat_minor": 0,
  "metadata": {
    "colab": {
      "name": "CIFAR-10_VGG11_SGD_w/Momentum.ipynb",
      "provenance": [],
      "authorship_tag": "ABX9TyPjzBYOLgp/R0vz6qfkP+WF",
      "include_colab_link": true
    },
    "kernelspec": {
      "name": "python3",
      "display_name": "Python 3"
    },
    "accelerator": "GPU"
  },
  "cells": [
    {
      "cell_type": "markdown",
      "metadata": {
        "id": "view-in-github",
        "colab_type": "text"
      },
      "source": [
        "<a href=\"https://colab.research.google.com/github/abahnasy/cifar-experiments/blob/master/CIFAR_10_VGG11_SGD_w_Momentum.ipynb\" target=\"_parent\"><img src=\"https://colab.research.google.com/assets/colab-badge.svg\" alt=\"Open In Colab\"/></a>"
      ]
    },
    {
      "cell_type": "code",
      "metadata": {
        "id": "J3iFVqNBU_IJ",
        "colab_type": "code",
        "colab": {
          "base_uri": "https://localhost:8080/",
          "height": 51
        },
        "outputId": "2efa5a53-4caa-4acb-da61-648c280520e7"
      },
      "source": [
        "import numpy as np\n",
        "import pandas as pd\n",
        "import matplotlib.pyplot as plt\n",
        "\n",
        "\n",
        "import seaborn as sns\n",
        "\n",
        "import torch\n",
        "import torch.nn as nn\n",
        "import torch.optim as optim\n",
        "import torchvision\n",
        "import torchvision.transforms as transforms\n",
        "import torch.nn.functional as F\n",
        "from torch.autograd import Variable\n",
        "from torch.utils.data import DataLoader\n",
        "from torchvision.utils import make_grid\n",
        "\n",
        "from PIL import Image\n",
        "\n",
        "import os\n",
        "import sys\n",
        "import time\n",
        "import math"
      ],
      "execution_count": 1,
      "outputs": [
        {
          "output_type": "stream",
          "text": [
            "/usr/local/lib/python3.6/dist-packages/statsmodels/tools/_testing.py:19: FutureWarning: pandas.util.testing is deprecated. Use the functions in the public API at pandas.testing instead.\n",
            "  import pandas.util.testing as tm\n"
          ],
          "name": "stderr"
        }
      ]
    },
    {
      "cell_type": "code",
      "metadata": {
        "id": "18keaK1rVFGz",
        "colab_type": "code",
        "colab": {}
      },
      "source": [
        "transform_train = transforms.Compose([\n",
        "    transforms.RandomCrop(32, padding=4),\n",
        "    transforms.RandomHorizontalFlip(),\n",
        "    transforms.RandomRotation(10),\n",
        "    transforms.RandomAffine(0, shear=10, scale=(0.8,1.2)),\n",
        "    transforms.ColorJitter(brightness=0.2, contrast=0.2, saturation=0.2),\n",
        "    transforms.ToTensor(),\n",
        "    transforms.Normalize((0.4914, 0.4822, 0.4465), (0.2023, 0.1994, 0.2010)),\n",
        "])\n",
        "\n",
        "transform_test = transforms.Compose([\n",
        "    transforms.ToTensor(),\n",
        "    transforms.Normalize((0.4914, 0.4822, 0.4465), (0.2023, 0.1994, 0.2010)),\n",
        "])"
      ],
      "execution_count": 21,
      "outputs": []
    },
    {
      "cell_type": "code",
      "metadata": {
        "id": "BfbVhOqiVHmT",
        "colab_type": "code",
        "colab": {
          "base_uri": "https://localhost:8080/",
          "height": 51
        },
        "outputId": "ebba4cdd-3d81-4f87-9c6c-2f4c2e28d6c4"
      },
      "source": [
        "trainset = torchvision.datasets.CIFAR10(\n",
        "    root='./data', train=True, download=True, transform=transform_train)\n",
        "\n",
        "testset = torchvision.datasets.CIFAR10(\n",
        "    root='./data', train=False, download=True, transform=transform_test)\n",
        "\n",
        "classes = ('plane', 'car', 'bird', 'cat', 'deer',\n",
        "           'dog', 'frog', 'horse', 'ship', 'truck')"
      ],
      "execution_count": 22,
      "outputs": [
        {
          "output_type": "stream",
          "text": [
            "Files already downloaded and verified\n",
            "Files already downloaded and verified\n"
          ],
          "name": "stdout"
        }
      ]
    },
    {
      "cell_type": "code",
      "metadata": {
        "id": "w1YE17PpVSCj",
        "colab_type": "code",
        "colab": {}
      },
      "source": [
        "trainloader = torch.utils.data.DataLoader(\n",
        "    trainset, batch_size=64, shuffle=True, num_workers=4)\n",
        "testloader = torch.utils.data.DataLoader(\n",
        "    testset, batch_size=64, shuffle=False, num_workers=4)"
      ],
      "execution_count": 23,
      "outputs": []
    },
    {
      "cell_type": "code",
      "metadata": {
        "id": "pJqiu-WVVT4m",
        "colab_type": "code",
        "colab": {}
      },
      "source": [
        "class VGG11(nn.Module):\n",
        "    def __init__(self):\n",
        "        super(VGG11, self).__init__()\n",
        "        self.conv1 = nn.Conv2d(3, 64, kernel_size=3, padding=1)\n",
        "        self.bn1 = nn.BatchNorm2d(64)\n",
        "        self.conv2 = nn.Conv2d(64, 128, kernel_size=3, padding=1)\n",
        "        self.bn2 = nn.BatchNorm2d(128)\n",
        "        self.conv3 = nn.Conv2d(128, 256, kernel_size=3, padding=1)\n",
        "        self.bn3 = nn.BatchNorm2d(256)\n",
        "        self.conv4 = nn.Conv2d(256, 256, kernel_size=3, padding=1)\n",
        "        self.bn4 = nn.BatchNorm2d(256)\n",
        "        self.conv5 = nn.Conv2d(256, 512, kernel_size=3, padding=1)\n",
        "        self.bn5 = nn.BatchNorm2d(512)\n",
        "        self.conv6 = nn.Conv2d(512, 512, kernel_size=3, padding=1)\n",
        "        self.bn6 = nn.BatchNorm2d(512)\n",
        "        self.conv7 = nn.Conv2d(512, 512, kernel_size=3, padding=1)\n",
        "        self.bn7 = nn.BatchNorm2d(512)\n",
        "        self.conv8 = nn.Conv2d(512, 512, kernel_size=3, padding=1)\n",
        "        self.bn8 = nn.BatchNorm2d(512)\n",
        "        self.avgPool1 = nn.AvgPool2d(kernel_size=1, stride=1)\n",
        "        self.fc1 = nn.Linear(512, 10)\n",
        "\n",
        "    def forward(self, x):\n",
        "        out = F.relu(self.bn1(self.conv1(x)))\n",
        "        out = F.max_pool2d(out,2)\n",
        "        out = F.relu(self.bn2(self.conv2(out)))\n",
        "        out = F.max_pool2d(out,2)\n",
        "        out = F.relu(self.bn3(self.conv3(out)))\n",
        "        out = F.relu(self.bn4(self.conv4(out)))\n",
        "        out = F.max_pool2d(out,2)\n",
        "        out = F.relu(self.bn5(self.conv5(out)))\n",
        "        out = F.relu(self.bn6(self.conv6(out)))\n",
        "        out = F.max_pool2d(out,2)\n",
        "        out = F.relu(self.bn7(self.conv7(out)))\n",
        "        out = F.relu(self.bn8(self.conv8(out)))\n",
        "        out = F.max_pool2d(out,2)\n",
        "        out = self.avgPool1(out)\n",
        "        out = out.view(out.size(0), -1)\n",
        "        out = self.fc1(out)\n",
        "        return out"
      ],
      "execution_count": 24,
      "outputs": []
    },
    {
      "cell_type": "code",
      "metadata": {
        "id": "jzwuHXhwVWZE",
        "colab_type": "code",
        "colab": {
          "base_uri": "https://localhost:8080/",
          "height": 34
        },
        "outputId": "fa5dd182-ee39-458d-abfd-66e5bc0741d3"
      },
      "source": [
        "device = 'cuda' if torch.cuda.is_available() else 'cpu'\n",
        "device"
      ],
      "execution_count": 25,
      "outputs": [
        {
          "output_type": "execute_result",
          "data": {
            "text/plain": [
              "'cuda'"
            ]
          },
          "metadata": {
            "tags": []
          },
          "execution_count": 25
        }
      ]
    },
    {
      "cell_type": "code",
      "metadata": {
        "id": "9kG6v0SBVZcg",
        "colab_type": "code",
        "colab": {}
      },
      "source": [
        "best_acc = 0  # best test accuracy\n",
        "start_epoch = 0  # start from epoch 0 or last checkpoint epoch"
      ],
      "execution_count": 26,
      "outputs": []
    },
    {
      "cell_type": "code",
      "metadata": {
        "id": "WgDYY7ZlVb5b",
        "colab_type": "code",
        "colab": {}
      },
      "source": [
        "net = VGG11()\n",
        "net = net.to(device)\n",
        "criterion = nn.CrossEntropyLoss()\n",
        "optimizer = optim.SGD(net.parameters(), lr=0.1,\n",
        "                      momentum=0.9, weight_decay=5e-4)"
      ],
      "execution_count": 27,
      "outputs": []
    },
    {
      "cell_type": "code",
      "metadata": {
        "id": "jrIptsW8VeGF",
        "colab_type": "code",
        "colab": {
          "base_uri": "https://localhost:8080/",
          "height": 136
        },
        "outputId": "9deca11c-9ddd-4fff-d981-aa8787c85938"
      },
      "source": [
        "# get only one training image and pass it to the network\n",
        "# im = transforms.ToPILImage()(torch.squeeze(next(iter(trainloader))[0], 0))\n",
        "# im\n",
        "\n",
        "sample = next(iter(trainloader))\n",
        "smoketest_image = sample[0]\n",
        "smoketest_label = sample[1]\n",
        "print(smoketest_label)\n",
        "net.train()\n",
        "smoketest_image = smoketest_image.to(device)\n",
        "smoketest_label = smoketest_label.to(device)\n",
        "optimizer.zero_grad()\n",
        "output = net(smoketest_image)\n",
        "loss = criterion(output, smoketest_label)\n",
        "loss.backward()\n",
        "optimizer.step()\n",
        "\n",
        "\n",
        "net.eval()\n",
        "with torch.no_grad():\n",
        "    output = net(smoketest_image)\n",
        "    loss = criterion(output, smoketest_label)\n",
        "    print(\"test loss\", loss.item())\n",
        "    _, predicted = output.max(1) # get the predicted label\n",
        "    print(\"Print predicted label\", predicted)\n",
        " "
      ],
      "execution_count": 28,
      "outputs": [
        {
          "output_type": "stream",
          "text": [
            "tensor([0, 6, 2, 0, 2, 5, 3, 3, 6, 4, 3, 1, 9, 5, 9, 9, 7, 5, 9, 9, 2, 9, 5, 0,\n",
            "        4, 8, 1, 3, 7, 6, 5, 9, 6, 6, 6, 8, 9, 3, 7, 6, 6, 8, 1, 9, 9, 2, 6, 7,\n",
            "        2, 8, 2, 5, 8, 2, 8, 4, 1, 7, 6, 5, 5, 2, 0, 7])\n",
            "test loss 2.2866482734680176\n",
            "Print predicted label tensor([9, 9, 9, 9, 9, 9, 9, 9, 9, 9, 9, 9, 9, 9, 9, 9, 9, 9, 9, 9, 9, 9, 9, 9,\n",
            "        9, 9, 9, 9, 9, 9, 9, 9, 9, 9, 9, 9, 9, 9, 9, 9, 9, 9, 9, 9, 9, 9, 9, 9,\n",
            "        9, 9, 9, 9, 9, 9, 9, 9, 9, 9, 9, 9, 9, 9, 9, 9], device='cuda:0')\n"
          ],
          "name": "stdout"
        }
      ]
    },
    {
      "cell_type": "code",
      "metadata": {
        "id": "8z-mPa-oVfyw",
        "colab_type": "code",
        "colab": {}
      },
      "source": [
        "num_epochs = 20\n",
        "train_running_loss= []\n",
        "train_running_acc= []\n",
        "test_running_loss=[]\n",
        "test_running_acc=[]"
      ],
      "execution_count": 30,
      "outputs": []
    },
    {
      "cell_type": "code",
      "metadata": {
        "id": "WZp4XbwsVisr",
        "colab_type": "code",
        "colab": {}
      },
      "source": [
        "# Training\n",
        "def train(epoch):\n",
        "    print('\\nEpoch: %d' % epoch)\n",
        "    net.train()\n",
        "    train_loss = 0.0\n",
        "    running_corrects = 0.0\n",
        "    total = 0\n",
        "    for batch_idx, (inputs, targets) in enumerate(trainloader):\n",
        "        inputs, targets = inputs.to(device), targets.to(device)\n",
        "        optimizer.zero_grad()\n",
        "        outputs = net(inputs)\n",
        "        loss = criterion(outputs, targets)\n",
        "        loss.backward()\n",
        "        optimizer.step()\n",
        "\n",
        "        train_loss += loss.item()\n",
        "        _, predicted = torch.max(outputs, 1)\n",
        "#         total += targets.size(0)\n",
        "#         correct += predicted.eq(targets).sum().item()\n",
        "        running_corrects += torch.sum(predicted == targets.data)\n",
        "    #plot train loss\n",
        "    train_running_loss.append(train_loss/len(trainset))\n",
        "    train_running_acc.append(running_corrects.float()/len(trainset))\n",
        "#     print(\"loss \", train_loss)"
      ],
      "execution_count": 31,
      "outputs": []
    },
    {
      "cell_type": "code",
      "metadata": {
        "id": "5f_tEUxYVkKo",
        "colab_type": "code",
        "colab": {}
      },
      "source": [
        "def test(epoch):\n",
        "    global best_acc\n",
        "    net.eval()\n",
        "    test_loss = 0.0\n",
        "    running_corrects = 0.0\n",
        "    total = 0\n",
        "    with torch.no_grad():\n",
        "        for batch_idx, (inputs, targets) in enumerate(testloader):\n",
        "            inputs, targets = inputs.to(device), targets.to(device)\n",
        "            outputs = net(inputs)\n",
        "            loss = criterion(outputs, targets)\n",
        "\n",
        "            test_loss += loss.item()\n",
        "            _, predicted = outputs.max(1)\n",
        "            total += targets.size(0)\n",
        "#             correct += predicted.eq(targets).sum().item()\n",
        "            running_corrects += torch.sum(predicted == targets.data)\n",
        "        # plot test loss\n",
        "#         test_loss_plot.append(test_loss/len(testset))\n",
        "        test_running_loss.append(test_loss/len(testset))\n",
        "        test_running_acc.append(running_corrects/len(testset))\n",
        "#         print(\"test loss\", test_loss)"
      ],
      "execution_count": 32,
      "outputs": []
    },
    {
      "cell_type": "code",
      "metadata": {
        "id": "1L4Po-g-VmD-",
        "colab_type": "code",
        "colab": {
          "base_uri": "https://localhost:8080/",
          "height": 697
        },
        "outputId": "863c2ce6-f05c-4f32-8f03-39a30c01fb62"
      },
      "source": [
        "for epoch in range(start_epoch, start_epoch+num_epochs):\n",
        "    train(epoch)\n",
        "    test(epoch)\n"
      ],
      "execution_count": 33,
      "outputs": [
        {
          "output_type": "stream",
          "text": [
            "\n",
            "Epoch: 0\n",
            "\n",
            "Epoch: 1\n",
            "\n",
            "Epoch: 2\n",
            "\n",
            "Epoch: 3\n",
            "\n",
            "Epoch: 4\n",
            "\n",
            "Epoch: 5\n",
            "\n",
            "Epoch: 6\n",
            "\n",
            "Epoch: 7\n",
            "\n",
            "Epoch: 8\n",
            "\n",
            "Epoch: 9\n",
            "\n",
            "Epoch: 10\n",
            "\n",
            "Epoch: 11\n",
            "\n",
            "Epoch: 12\n",
            "\n",
            "Epoch: 13\n",
            "\n",
            "Epoch: 14\n",
            "\n",
            "Epoch: 15\n",
            "\n",
            "Epoch: 16\n",
            "\n",
            "Epoch: 17\n",
            "\n",
            "Epoch: 18\n",
            "\n",
            "Epoch: 19\n"
          ],
          "name": "stdout"
        }
      ]
    },
    {
      "cell_type": "code",
      "metadata": {
        "id": "adZPNmUEVnt4",
        "colab_type": "code",
        "colab": {
          "base_uri": "https://localhost:8080/",
          "height": 501
        },
        "outputId": "8e969c2f-8c84-453f-df92-acf81c0bdaca"
      },
      "source": [
        "sns.set()\n",
        "fig = plt.figure(1, figsize = (25,8))\n",
        "ax1 = plt.subplot(1,2,1)\n",
        "ax1.plot(range(num_epochs), train_running_loss, label=\"train\")\n",
        "ax1.plot(range(num_epochs), test_running_loss, label=\"test\")\n",
        "ax1.set_title(\"Loss curve\")\n",
        "plt.legend()\n",
        "ax2 = plt.subplot(1,2,2)\n",
        "\n",
        "ax2.plot(range(num_epochs), train_running_acc, label=\"train\")\n",
        "ax2.plot(range(num_epochs), test_running_acc, label=\"test\")\n",
        "ax2.set_title(\"accuracy curve\")\n",
        "plt.legend()\n",
        "plt.show()\n",
        "\n",
        "# plt.plot(range(num_epochs), train_loss_plot, label=\"train\")\n",
        "# plt.plot(range(num_epochs), test_loss_plot, label=\"test\")"
      ],
      "execution_count": 34,
      "outputs": [
        {
          "output_type": "display_data",
          "data": {
            "image/png": "[encoded data removed]",
            "text/plain": [
              "<Figure size 1800x576 with 2 Axes>"
            ]
          },
          "metadata": {
            "tags": []
          }
        }
      ]
    },
    {
      "cell_type": "code",
      "metadata": {
        "id": "ZrOn9s_aVq5l",
        "colab_type": "code",
        "colab": {
          "base_uri": "https://localhost:8080/",
          "height": 68
        },
        "outputId": "4b0c8361-61ed-41b5-c2b8-83bbe6ff8c3a"
      },
      "source": [
        "correct_count, all_count = 0, 0\n",
        "for images,labels in testloader:\n",
        "    for i in range(len(labels)):\n",
        "        img = images[i].view(1, 3, 32, 32).to(device)\n",
        "        with torch.no_grad():\n",
        "            logps = net(img)\n",
        "\n",
        "        ps = torch.exp(logps)\n",
        "        probab = list(ps.cpu().numpy()[0])\n",
        "        pred_label = probab.index(max(probab))\n",
        "        true_label = labels.numpy()[i]\n",
        "        if(true_label == pred_label):\n",
        "          correct_count += 1\n",
        "        all_count += 1\n",
        "\n",
        "print(\"Number Of Images Tested =\", all_count)\n",
        "print(\"\\nModel Accuracy =\", (correct_count/all_count))"
      ],
      "execution_count": 35,
      "outputs": [
        {
          "output_type": "stream",
          "text": [
            "Number Of Images Tested = 10000\n",
            "\n",
            "Model Accuracy = 0.7365\n"
          ],
          "name": "stdout"
        }
      ]
    },
    {
      "cell_type": "code",
      "metadata": {
        "id": "KqR2K9M6VtUt",
        "colab_type": "code",
        "colab": {}
      },
      "source": [
        ""
      ],
      "execution_count": 35,
      "outputs": []
    }
  ]
}